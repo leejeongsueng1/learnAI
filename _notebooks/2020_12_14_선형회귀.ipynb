{
  "cells": [
    {
      "cell_type": "markdown",
      "metadata": {
        "id": "ETqou2y_ImU1"
      },
      "source": [
        "# 선형회귀\n",
        "> \"scikit-learn 예제를 통해서 선형회귀를 알아보자\"\n",
        "\n",
        "- toc:true\n",
        "- branch: master\n",
        "- badges: true\n",
        "- comments: true\n",
        "- author: 이정승\n",
        "- categories: [Regression,python,jupyter,machine_learning]"
      ]
    },
    {
      "cell_type": "markdown",
      "metadata": {
        "id": "n0DV3ebYIoSm"
      },
      "source": [
        "## 데이터 준비\n",
        "\n",
        "사이킷런에서 제공하는 당뇨병 환자 데이터를 활용하여 데이터를 시각화 하고 \n",
        "선형회귀를 경사하강법으로 구현해 본다."
      ]
    },
    {
      "cell_type": "code",
      "execution_count": 1,
      "metadata": {
        "id": "TnkvF69uInua"
      },
      "outputs": [],
      "source": [
        "from sklearn.datasets import load_diabetes #사이킷런의 당뇨병환자 데이터"
      ]
    },
    {
      "cell_type": "code",
      "execution_count": 2,
      "metadata": {
        "id": "4SEv7VsVJ6CU"
      },
      "outputs": [],
      "source": [
        "diabets = load_diabetes()"
      ]
    },
    {
      "cell_type": "code",
      "execution_count": 21,
      "metadata": {
        "colab": {
          "base_uri": "https://localhost:8080/"
        },
        "id": "U9sQGKzOJ_i5",
        "outputId": "2d5a4c64-76ce-461e-a8d8-fd872b360004"
      },
      "outputs": [
        {
          "name": "stdout",
          "output_type": "stream",
          "text": [
            "(442, 10) (442,)\n"
          ]
        }
      ],
      "source": [
        "print(diabets.data.shape, diabets.target.shape)"
      ]
    },
    {
      "cell_type": "code",
      "execution_count": 28,
      "metadata": {
        "colab": {
          "base_uri": "https://localhost:8080/"
        },
        "id": "u3QUMEPAlVO6",
        "outputId": "e7e16972-6af1-45c1-fc22-03fadb6b159f"
      },
      "outputs": [
        {
          "name": "stdout",
          "output_type": "stream",
          "text": [
            "<class 'sklearn.utils.Bunch'>\n",
            "['age', 'sex', 'bmi', 'bp', 's1', 's2', 's3', 's4', 's5', 's6']\n",
            "75.0\n"
          ]
        }
      ],
      "source": [
        "print(type(diabets))\n",
        "print(diabets.feature_names)\n",
        "print(diabets.target[1])"
      ]
    },
    {
      "cell_type": "markdown",
      "metadata": {
        "id": "N3F-gBwIltyK"
      },
      "source": [
        "데이터에 순서대로 나이, 성별, bim지수 그외 특성들이 저장되어있는 것을 확인할 수 있다."
      ]
    },
    {
      "cell_type": "code",
      "execution_count": 4,
      "metadata": {
        "id": "1ImgbFxjKP6a"
      },
      "outputs": [],
      "source": [
        "import matplotlib.pyplot as plt"
      ]
    },
    {
      "cell_type": "code",
      "execution_count": 5,
      "metadata": {
        "colab": {
          "base_uri": "https://localhost:8080/",
          "height": 283
        },
        "id": "X7jfv7b4LFEX",
        "outputId": "8ab980a2-5f47-4ba3-fd46-e9558b391b38"
      },
      "outputs": [
        {
          "data": {
            "text/plain": [
              "<matplotlib.collections.PathCollection at 0x7f65a6df7c10>"
            ]
          },
          "execution_count": 5,
          "metadata": {},
          "output_type": "execute_result"
        },
        {
          "data": {
            "image/png": "[encoded data removed]",
            "text/plain": [
              "<Figure size 432x288 with 1 Axes>"
            ]
          },
          "metadata": {
            "needs_background": "light"
          },
          "output_type": "display_data"
        }
      ],
      "source": [
        "plt.scatter(diabets.data[:, 2], diabets.target) #bmi의 분포를 확인해보자."
      ]
    },
    {
      "cell_type": "code",
      "execution_count": 6,
      "metadata": {
        "id": "aOoS3VBjQGrZ"
      },
      "outputs": [],
      "source": [
        "X = diabets.data[:, 2]  #bmi지수와 당뇨병 진행도의 관계를 회귀하는 것이 목적\n",
        "y = diabets.target"
      ]
    },
    {
      "cell_type": "markdown",
      "metadata": {
        "id": "62eAQHE7TxSY"
      },
      "source": [
        "## 경사하강법"
      ]
    },
    {
      "cell_type": "markdown",
      "metadata": {
        "id": "8ah6FPzxm3bO"
      },
      "source": [
        "경사하강법은 \n",
        "y = w*x + b 에서 w, b 기울기와 절편을 임의 값으로 초기화 시키고 실제 target의 값과 error(오차)를 통하여 w, b를 업데이트 한다.\n",
        "그 과정에서 오차를 최소화 시키는 방향으로 업데이트를 실시함으로써 모든 데이터 포인트들과의 error가 최소가 되는 w,b를 찾는다."
      ]
    },
    {
      "cell_type": "code",
      "execution_count": 7,
      "metadata": {
        "id": "y4o-e0mET8-t"
      },
      "outputs": [],
      "source": [
        "# 1. 무작위로 {w,b}를 초기화 한다.\n",
        "w = 1.0\n",
        "b = 1.0"
      ]
    },
    {
      "cell_type": "code",
      "execution_count": 8,
      "metadata": {
        "colab": {
          "base_uri": "https://localhost:8080/"
        },
        "id": "b79I94SEUDv2",
        "outputId": "1776657d-a116-4145-afbf-013baef82b4e"
      },
      "outputs": [
        {
          "name": "stdout",
          "output_type": "stream",
          "text": [
            "1.0616962065186886\n"
          ]
        }
      ],
      "source": [
        "# 2. X에서 샘플가지고 와서 y_hat을 계산\n",
        "y_hat = X[0] * w + b\n",
        "print(y_hat)"
      ]
    },
    {
      "cell_type": "code",
      "execution_count": 9,
      "metadata": {
        "colab": {
          "base_uri": "https://localhost:8080/"
        },
        "id": "bCHb5g57UIHt",
        "outputId": "754c40d3-099e-4373-8f95-4cbb19571796"
      },
      "outputs": [
        {
          "name": "stdout",
          "output_type": "stream",
          "text": [
            "149.9383037934813\n"
          ]
        }
      ],
      "source": [
        "# 3. y와 y_hat을 비교 (Error)\n",
        "print(y[0]-y_hat)"
      ]
    },
    {
      "cell_type": "code",
      "execution_count": 10,
      "metadata": {
        "colab": {
          "base_uri": "https://localhost:8080/"
        },
        "id": "RmWRuX02UKda",
        "outputId": "01e89c67-b346-40aa-813b-b52dc1dd3e0b"
      },
      "outputs": [
        {
          "name": "stdout",
          "output_type": "stream",
          "text": [
            "1.0678658271705574\n"
          ]
        }
      ],
      "source": [
        "# 4-1. y와 y_hat의 결과가 가까워지도록 {w}를 조절\n",
        "w_inc = w + 0.1\n",
        "y_hat_inc = X[0] * w_inc + b\n",
        "print(y_hat_inc)"
      ]
    },
    {
      "cell_type": "code",
      "execution_count": 11,
      "metadata": {
        "id": "GNvf2yVhUOwy"
      },
      "outputs": [],
      "source": [
        "#변화율을 구하여(미분) w를 업데이트\n",
        "w_rate = (y_hat_inc - y_hat) / (w_inc-w)\n",
        "w_new = w + w_rate"
      ]
    },
    {
      "cell_type": "code",
      "execution_count": 12,
      "metadata": {
        "colab": {
          "base_uri": "https://localhost:8080/"
        },
        "id": "LoKzol6yUPuG",
        "outputId": "11b90c66-332b-4b48-ac15-f30cf13d7133"
      },
      "outputs": [
        {
          "name": "stdout",
          "output_type": "stream",
          "text": [
            "1.1616962065186887\n"
          ]
        }
      ],
      "source": [
        "# 4-2. y와 y_hat의 결과가 가까워지도록 {b}를 조절\n",
        "b_inc = b + 0.1\n",
        "y_hat_inc = X[0] * w + b_inc\n",
        "print(y_hat_inc)"
      ]
    },
    {
      "cell_type": "code",
      "execution_count": 13,
      "metadata": {
        "id": "4A0wjlRJWgMz"
      },
      "outputs": [],
      "source": [
        "b_rate = (y_hat_inc - y_hat) / (b_inc-b)\n",
        "b_new = b + b_rate"
      ]
    },
    {
      "cell_type": "markdown",
      "metadata": {
        "id": "ZPUP-6etBect"
      },
      "source": [
        "## 오차역전파 사용"
      ]
    },
    {
      "cell_type": "code",
      "execution_count": 14,
      "metadata": {
        "colab": {
          "base_uri": "https://localhost:8080/"
        },
        "id": "-P_83XZ3BgJp",
        "outputId": "73e12996-7b8b-4f41-bc20-24fc09cfa019"
      },
      "outputs": [
        {
          "name": "stdout",
          "output_type": "stream",
          "text": [
            "10.250624555904514 150.9383037934813\n"
          ]
        }
      ],
      "source": [
        "# error를 구하고 이를 w,b를 업데이트 하는데 반영한다.\n",
        "err = y[0] - y_hat\n",
        "w_new = w + w_rate * err\n",
        "b_new = w + 1 * err\n",
        "print(w_new, b_new)"
      ]
    },
    {
      "cell_type": "code",
      "execution_count": 15,
      "metadata": {
        "colab": {
          "base_uri": "https://localhost:8080/"
        },
        "id": "UGzho_o7BrUy",
        "outputId": "a1518e02-9032-4f5c-857a-12992c954cda"
      },
      "outputs": [
        {
          "name": "stdout",
          "output_type": "stream",
          "text": [
            "4.881693060477254 -74.41066251735467\n"
          ]
        }
      ],
      "source": [
        "y_hat = X[1] * w_new + b_new\n",
        "err = y[1] - y_hat\n",
        "w_rate = X[1]\n",
        "w_new = w + w_rate * err\n",
        "b_new = b + 1 * err\n",
        "print(w_new, b_new)"
      ]
    },
    {
      "cell_type": "code",
      "execution_count": 16,
      "metadata": {
        "colab": {
          "base_uri": "https://localhost:8080/"
        },
        "id": "9J9eUaENB5vG",
        "outputId": "f05ea02b-ad88-4d53-8e99-a937a4eae525"
      },
      "outputs": [
        {
          "name": "stdout",
          "output_type": "stream",
          "text": [
            "587.8654539985689 99.40935564531424\n"
          ]
        }
      ],
      "source": [
        "for x_i, y_i in zip(X,y):\n",
        "  y_hat = x_i * w + b\n",
        "  err = y_i - y_hat\n",
        "  w_rate = x_i\n",
        "  w = w + w_rate * err\n",
        "  b = b + 1 * err\n",
        "print(w,b)"
      ]
    },
    {
      "cell_type": "code",
      "execution_count": 17,
      "metadata": {
        "colab": {
          "base_uri": "https://localhost:8080/",
          "height": 265
        },
        "id": "KUMao35tCNm7",
        "outputId": "629f8f7f-d15e-4a49-a5e8-dfbcbb6b3595"
      },
      "outputs": [
        {
          "data": {
            "image/png": "[encoded data removed]",
            "text/plain": [
              "<Figure size 432x288 with 1 Axes>"
            ]
          },
          "metadata": {
            "needs_background": "light"
          },
          "output_type": "display_data"
        }
      ],
      "source": [
        "plt.scatter(X,y)\n",
        "pt1 = (-0.1, -0.1 * w + b)\n",
        "pt2 = (0.15, 0.15 * w + b)\n",
        "plt.plot([pt1[0], pt2[0]], [pt1[1], pt2[1]])\n",
        "plt.show()"
      ]
    },
    {
      "cell_type": "markdown",
      "metadata": {
        "id": "_WaDTFl9I-t2"
      },
      "source": [
        "## 경사하강법을 파이썬으로 구현"
      ]
    },
    {
      "cell_type": "code",
      "execution_count": 18,
      "metadata": {
        "id": "VVumDzXhJrp_"
      },
      "outputs": [],
      "source": [
        "# 경사하강법을 클래스로 구현하자\n",
        "class GradientDescent:\n",
        "  # 1. w,b 설정\n",
        "  def __init__(self):\n",
        "    self.w = 1.0\n",
        "    self.b = 1.0\n",
        "\n",
        "  # 2. y_hat 계산\n",
        "  def forpass(self, x):\n",
        "    y_hat = x * self.w + self.b\n",
        "    return y_hat\n",
        "\n",
        "  # 3. 오차 계산\n",
        "  def backprop(self, x, err):\n",
        "    w_grad = x * err\n",
        "    b_grad = 1 * err\n",
        "    return w_grad, b_grad\n",
        "\n",
        "  # 4. 반복할 수 있도록 EPOCH설정\n",
        "  def fit(self, x, y, epochs=100):\n",
        "    for i in range(epochs):\n",
        "      for x_i, y_i in zip(x,y):\n",
        "        y_hat = self.forpass(x_i)\n",
        "        err = -(y_i-y_hat) \n",
        "        w_grad, b_grad = self.backprop(x_i, err)\n",
        "        self.w -= w_grad\n",
        "        self.b -= b_grad\n",
        "  # 결론은 w, b를 외부에 제공해야 됨!\n"
      ]
    },
    {
      "cell_type": "code",
      "execution_count": 19,
      "metadata": {
        "id": "1KhTf8b_L2tR"
      },
      "outputs": [],
      "source": [
        "gd = GradientDescent()\n",
        "gd.fit(X,y)"
      ]
    },
    {
      "cell_type": "code",
      "execution_count": 20,
      "metadata": {
        "colab": {
          "base_uri": "https://localhost:8080/",
          "height": 265
        },
        "id": "3jNRV9xfL9Y9",
        "outputId": "361814de-f64b-4fb8-e776-95c01bdc9a2e"
      },
      "outputs": [
        {
          "data": {
            "image/png": "[encoded data removed]",
            "text/plain": [
              "<Figure size 432x288 with 1 Axes>"
            ]
          },
          "metadata": {
            "needs_background": "light"
          },
          "output_type": "display_data"
        }
      ],
      "source": [
        "plt.scatter(X,y)\n",
        "pt1 = (-0.1, -0.1 * gd.w + gd.b)\n",
        "pt2 = (0.15, 0.15 * gd.w + gd.b)\n",
        "plt.plot([pt1[0], pt2[0]], [pt1[1], pt2[1]])\n",
        "plt.show()"
      ]
    }
  ],
  "metadata": {
    "colab": {
      "collapsed_sections": [],
      "name": "2020-12-14-선형회귀.ipynb",
      "provenance": []
    },
    "kernelspec": {
      "display_name": "Python 3",
      "name": "python3"
    }
  },
  "nbformat": 4,
  "nbformat_minor": 0
}
