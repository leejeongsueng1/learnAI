{
  "nbformat": 4,
  "nbformat_minor": 0,
  "metadata": {
    "colab": {
      "name": "2020_12_16_선형분류.ipynb",
      "provenance": [],
      "collapsed_sections": []
    },
    "kernelspec": {
      "name": "python3",
      "display_name": "Python 3"
    }
  },
  "cells": [
    {
      "cell_type": "markdown",
      "metadata": {
        "id": "6-M_46OQhF68"
      },
      "source": [
        "# 선형분류\n",
        "> \"scikit-learn 예제를 통해서 선형분류를 알아보자\"\n",
        "\n",
        "- toc:true\n",
        "- branch: master\n",
        "- badges: true\n",
        "- comments: true\n",
        "- author: 이정승\n",
        "- categories: [classification,python,jupyter,machine_learning]"
      ]
    },
    {
      "cell_type": "markdown",
      "metadata": {
        "id": "VvJPQEjxrQXO"
      },
      "source": [
        "선형 분류는 어떤 데이터를 선형결정경계를 통해 클래스를 부여하는 모델이다.\n",
        "사이킷런에서 제공하는 유방암 데이터를 이용해 선형 분류 모델을 만들어 보자."
      ]
    },
    {
      "cell_type": "code",
      "metadata": {
        "id": "SABT8MV7iFWq"
      },
      "source": [
        "import numpy as np\n",
        "import matplotlib.pyplot as plt"
      ],
      "execution_count": 1,
      "outputs": []
    },
    {
      "cell_type": "markdown",
      "metadata": {
        "id": "jCOdicg6haQz"
      },
      "source": [
        "## 데이터 준비"
      ]
    },
    {
      "cell_type": "code",
      "metadata": {
        "id": "6urzgi-SirFK"
      },
      "source": [
        "from sklearn.datasets import load_breast_cancer\n",
        "cancer = load_breast_cancer()"
      ],
      "execution_count": 2,
      "outputs": []
    },
    {
      "cell_type": "code",
      "metadata": {
        "colab": {
          "base_uri": "https://localhost:8080/"
        },
        "id": "3o9RXqFJiunM",
        "outputId": "5740284a-ebb3-4a06-ab3c-9b0a7cf4e26a"
      },
      "source": [
        "print(cancer.data.shape, cancer.target.shape)"
      ],
      "execution_count": 3,
      "outputs": [
        {
          "output_type": "stream",
          "name": "stdout",
          "text": [
            "(569, 30) (569,)\n"
          ]
        }
      ]
    },
    {
      "cell_type": "code",
      "metadata": {
        "colab": {
          "base_uri": "https://localhost:8080/"
        },
        "id": "es8dmCTOjRD5",
        "outputId": "ec5c244d-ba86-49af-be3b-5224d8d95b0b"
      },
      "source": [
        "cancer.data[:3]  #3개의 로우 확인 (자료형이 어떤지를 확인하는 과정)"
      ],
      "execution_count": 4,
      "outputs": [
        {
          "output_type": "execute_result",
          "data": {
            "text/plain": [
              "array([[1.799e+01, 1.038e+01, 1.228e+02, 1.001e+03, 1.184e-01, 2.776e-01,\n",
              "        3.001e-01, 1.471e-01, 2.419e-01, 7.871e-02, 1.095e+00, 9.053e-01,\n",
              "        8.589e+00, 1.534e+02, 6.399e-03, 4.904e-02, 5.373e-02, 1.587e-02,\n",
              "        3.003e-02, 6.193e-03, 2.538e+01, 1.733e+01, 1.846e+02, 2.019e+03,\n",
              "        1.622e-01, 6.656e-01, 7.119e-01, 2.654e-01, 4.601e-01, 1.189e-01],\n",
              "       [2.057e+01, 1.777e+01, 1.329e+02, 1.326e+03, 8.474e-02, 7.864e-02,\n",
              "        8.690e-02, 7.017e-02, 1.812e-01, 5.667e-02, 5.435e-01, 7.339e-01,\n",
              "        3.398e+00, 7.408e+01, 5.225e-03, 1.308e-02, 1.860e-02, 1.340e-02,\n",
              "        1.389e-02, 3.532e-03, 2.499e+01, 2.341e+01, 1.588e+02, 1.956e+03,\n",
              "        1.238e-01, 1.866e-01, 2.416e-01, 1.860e-01, 2.750e-01, 8.902e-02],\n",
              "       [1.969e+01, 2.125e+01, 1.300e+02, 1.203e+03, 1.096e-01, 1.599e-01,\n",
              "        1.974e-01, 1.279e-01, 2.069e-01, 5.999e-02, 7.456e-01, 7.869e-01,\n",
              "        4.585e+00, 9.403e+01, 6.150e-03, 4.006e-02, 3.832e-02, 2.058e-02,\n",
              "        2.250e-02, 4.571e-03, 2.357e+01, 2.553e+01, 1.525e+02, 1.709e+03,\n",
              "        1.444e-01, 4.245e-01, 4.504e-01, 2.430e-01, 3.613e-01, 8.758e-02]])"
            ]
          },
          "metadata": {},
          "execution_count": 4
        }
      ]
    },
    {
      "cell_type": "code",
      "metadata": {
        "colab": {
          "base_uri": "https://localhost:8080/",
          "height": 283
        },
        "id": "4ILS3-Ckjg-Q",
        "outputId": "bc82f3ae-9153-426f-f22e-43cf8b600f67"
      },
      "source": [
        "plt.boxplot(cancer.data)       #박스플랏으로 데이터 분포 확인\n",
        "plt.show                     #4번째와 24번 속성에서 두드러진다."
      ],
      "execution_count": 5,
      "outputs": [
        {
          "output_type": "execute_result",
          "data": {
            "text/plain": [
              "<function matplotlib.pyplot.show>"
            ]
          },
          "metadata": {},
          "execution_count": 5
        },
        {
          "output_type": "display_data",
          "data": {
            "image/png": "[encoded data removed]",
            "text/plain": [
              "<Figure size 432x288 with 1 Axes>"
            ]
          },
          "metadata": {
            "needs_background": "light"
          }
        }
      ]
    },
    {
      "cell_type": "code",
      "metadata": {
        "colab": {
          "base_uri": "https://localhost:8080/"
        },
        "id": "eqMT2upwj-qx",
        "outputId": "1758b630-9c97-4c6c-809f-d41fb21e1b8f"
      },
      "source": [
        "print(cancer.feature_names)  #각 attribute들의 이름\n",
        "print(cancer.feature_names[3])\n",
        "print(cancer.feature_names[13])\n",
        "print(cancer.feature_names[23])\n",
        "# 4번째는 mean area, 14번째는 area error, 24번째는 worst area"
      ],
      "execution_count": 11,
      "outputs": [
        {
          "output_type": "stream",
          "name": "stdout",
          "text": [
            "['mean radius' 'mean texture' 'mean perimeter' 'mean area'\n",
            " 'mean smoothness' 'mean compactness' 'mean concavity'\n",
            " 'mean concave points' 'mean symmetry' 'mean fractal dimension'\n",
            " 'radius error' 'texture error' 'perimeter error' 'area error'\n",
            " 'smoothness error' 'compactness error' 'concavity error'\n",
            " 'concave points error' 'symmetry error' 'fractal dimension error'\n",
            " 'worst radius' 'worst texture' 'worst perimeter' 'worst area'\n",
            " 'worst smoothness' 'worst compactness' 'worst concavity'\n",
            " 'worst concave points' 'worst symmetry' 'worst fractal dimension']\n",
            "mean area\n",
            "area error\n",
            "worst area\n"
          ]
        }
      ]
    },
    {
      "cell_type": "code",
      "metadata": {
        "id": "VtiixQYwkC94"
      },
      "source": [
        "X = cancer.data[:500]\n",
        "y = cancer.target[:500]"
      ],
      "execution_count": 7,
      "outputs": []
    },
    {
      "cell_type": "markdown",
      "metadata": {
        "id": "InLJ9K7VhxSz"
      },
      "source": [
        "## 로지스틱 회귀 모델\n",
        "\n"
      ]
    },
    {
      "cell_type": "code",
      "metadata": {
        "id": "nK43aKtKinec"
      },
      "source": [
        "class LogisticRegression:\n",
        "  # 1. 회귀를 먼저 작성\n",
        "  def __init__(self):\n",
        "    self.w = None\n",
        "    self.b = None\n",
        "\n",
        "  def forpass(self,x):\n",
        "    z = np.sum(x * self.w) + self.b\n",
        "    return z\n",
        "\n",
        "  def backprop(self,x,err):\n",
        "    w_grad = x*err\n",
        "    b_grad = 1*err\n",
        "    return w_grad, b_grad\n",
        "\n",
        "  # 2. 활성화 함수를 작성\n",
        "  # sigmoid를 사용하였다.\n",
        "  #클리핑을 통해 일정 값을 넘어가는 것은 제거y,epochs=100):\n",
        "    self.w = np.ones(x.shape[1])\n",
        "    self.b = 0\n",
        "    for i in range(epochs):\n",
        "      for x_i, y_i in zip(x,y):\n",
        "        z = self.forpass(x_i)\n",
        "        a = self.activation(z)\n",
        "        err = -(y_i - a)\n",
        "        w_grad, b_grad = self.backprop(x_i,err)\n",
        "        self.w -= w_grad\n",
        "        self.b -= b_grad\n",
        "\n",
        "  # 3. 임계함수를 작성\n",
        "  def predict(self, x):\n",
        "    z = [self.forpass(x_i) for x_i in x]\n",
        "    a = self.activation(np.array(z))\n",
        "    return a> 0.5\n"
      ],
      "execution_count": 8,
      "outputs": []
    },
    {
      "cell_type": "code",
      "metadata": {
        "id": "34pL3VTwogkU"
      },
      "source": [
        "lr = LogisticRegression()\n",
        "lr.fit(X,y)"
      ],
      "execution_count": 9,
      "outputs": []
    },
    {
      "cell_type": "code",
      "metadata": {
        "colab": {
          "base_uri": "https://localhost:8080/"
        },
        "id": "wvcHFPfbolXP",
        "outputId": "eb2597b9-1597-4888-cebf-a580bbb81366"
      },
      "source": [
        "np.mean(lr.predict(cancer.data[501:]) == cancer.target[501:])\n",
        "#정확도를 계산해보자."
      ],
      "execution_count": 10,
      "outputs": [
        {
          "output_type": "execute_result",
          "data": {
            "text/plain": [
              "0.8970588235294118"
            ]
          },
          "metadata": {},
          "execution_count": 10
        }
      ]
    }
  ]
}